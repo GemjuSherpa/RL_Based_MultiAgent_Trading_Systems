{
 "cells": [
  {
   "cell_type": "code",
   "execution_count": 8,
   "id": "initial_id",
   "metadata": {
    "collapsed": true,
    "ExecuteTime": {
     "end_time": "2025-05-23T00:54:21.163669Z",
     "start_time": "2025-05-23T00:54:20.907209Z"
    }
   },
   "outputs": [],
   "source": [
    "import numpy as np\n",
    "import pandas as pd\n",
    "from matplotlib import pyplot as plt\n",
    "\n",
    "%matplotlib inline\n"
   ]
  },
  {
   "cell_type": "code",
   "outputs": [],
   "source": [
    "df_BTC = pd.read_csv('../data/processed/BTC-USD_2024-01-01_to_2025-04-30_1d.csv', parse_dates=[\"Date\"])\n",
    "df_APPL = pd.read_csv('../data/processed/AAPL_2022-01-01_to_2022-12-31_1d.csv', parse_dates=[\"Date\"])\n",
    "df_EURUSD = pd.read_csv('../data/processed/EURUSD_X_2022-01-01_to_2022-12-31_1d.csv', parse_dates=[\"Date\"])"
   ],
   "metadata": {
    "collapsed": false,
    "ExecuteTime": {
     "end_time": "2025-05-23T00:57:13.633279Z",
     "start_time": "2025-05-23T00:57:13.600249Z"
    }
   },
   "id": "13dcf67d60337829",
   "execution_count": 18
  },
  {
   "cell_type": "code",
   "outputs": [
    {
     "name": "stdout",
     "output_type": "stream",
     "text": [
      "<class 'pandas.core.frame.DataFrame'>\n",
      "RangeIndex: 232 entries, 0 to 231\n",
      "Data columns (total 9 columns):\n",
      " #   Column   Non-Null Count  Dtype         \n",
      "---  ------   --------------  -----         \n",
      " 0   Date     232 non-null    datetime64[ns]\n",
      " 1   Close    232 non-null    float64       \n",
      " 2   High     232 non-null    float64       \n",
      " 3   Low      232 non-null    float64       \n",
      " 4   Open     232 non-null    float64       \n",
      " 5   Volume   232 non-null    float64       \n",
      " 6   SMA_20   232 non-null    float64       \n",
      " 7   RSI      232 non-null    float64       \n",
      " 8   Returns  232 non-null    float64       \n",
      "dtypes: datetime64[ns](1), float64(8)\n",
      "memory usage: 16.4 KB\n"
     ]
    }
   ],
   "source": [
    "df_APPL.info()"
   ],
   "metadata": {
    "collapsed": false,
    "ExecuteTime": {
     "end_time": "2025-05-23T00:57:31.688860Z",
     "start_time": "2025-05-23T00:57:31.670840Z"
    }
   },
   "id": "a7fd9df0809dea98",
   "execution_count": 19
  },
  {
   "cell_type": "code",
   "outputs": [
    {
     "name": "stdout",
     "output_type": "stream",
     "text": [
      "<class 'pandas.core.frame.DataFrame'>\n",
      "RangeIndex: 466 entries, 0 to 465\n",
      "Data columns (total 9 columns):\n",
      " #   Column   Non-Null Count  Dtype         \n",
      "---  ------   --------------  -----         \n",
      " 0   Date     466 non-null    datetime64[ns]\n",
      " 1   Close    466 non-null    float64       \n",
      " 2   High     466 non-null    float64       \n",
      " 3   Low      466 non-null    float64       \n",
      " 4   Open     466 non-null    float64       \n",
      " 5   Volume   466 non-null    float64       \n",
      " 6   SMA_20   466 non-null    float64       \n",
      " 7   RSI      466 non-null    float64       \n",
      " 8   Returns  466 non-null    float64       \n",
      "dtypes: datetime64[ns](1), float64(8)\n",
      "memory usage: 32.9 KB\n"
     ]
    }
   ],
   "source": [
    "df_BTC.info()"
   ],
   "metadata": {
    "collapsed": false,
    "ExecuteTime": {
     "end_time": "2025-05-23T00:57:41.165129Z",
     "start_time": "2025-05-23T00:57:41.154247Z"
    }
   },
   "id": "8d2217f215517216",
   "execution_count": 20
  },
  {
   "cell_type": "code",
   "outputs": [
    {
     "name": "stdout",
     "output_type": "stream",
     "text": [
      "<class 'pandas.core.frame.DataFrame'>\n",
      "RangeIndex: 241 entries, 0 to 240\n",
      "Data columns (total 9 columns):\n",
      " #   Column   Non-Null Count  Dtype         \n",
      "---  ------   --------------  -----         \n",
      " 0   Date     241 non-null    datetime64[ns]\n",
      " 1   Close    241 non-null    float64       \n",
      " 2   High     241 non-null    float64       \n",
      " 3   Low      241 non-null    float64       \n",
      " 4   Open     241 non-null    float64       \n",
      " 5   Volume   241 non-null    float64       \n",
      " 6   SMA_20   241 non-null    float64       \n",
      " 7   RSI      241 non-null    float64       \n",
      " 8   Returns  241 non-null    float64       \n",
      "dtypes: datetime64[ns](1), float64(8)\n",
      "memory usage: 17.1 KB\n"
     ]
    }
   ],
   "source": [
    "df_EURUSD.info()"
   ],
   "metadata": {
    "collapsed": false,
    "ExecuteTime": {
     "end_time": "2025-05-23T00:57:49.076576Z",
     "start_time": "2025-05-23T00:57:49.068232Z"
    }
   },
   "id": "b60fdc36129fa69b",
   "execution_count": 21
  },
  {
   "cell_type": "code",
   "outputs": [
    {
     "name": "stdout",
     "output_type": "stream",
     "text": [
      "APPL null:  Date       0\n",
      "Close      0\n",
      "High       0\n",
      "Low        0\n",
      "Open       0\n",
      "Volume     0\n",
      "SMA_20     0\n",
      "RSI        0\n",
      "Returns    0\n",
      "dtype: int64\n",
      "BTC Null Date       0\n",
      "Close      0\n",
      "High       0\n",
      "Low        0\n",
      "Open       0\n",
      "Volume     0\n",
      "SMA_20     0\n",
      "RSI        0\n",
      "Returns    0\n",
      "dtype: int64\n",
      "EUR Null Date       0\n",
      "Close      0\n",
      "High       0\n",
      "Low        0\n",
      "Open       0\n",
      "Volume     0\n",
      "SMA_20     0\n",
      "RSI        0\n",
      "Returns    0\n",
      "dtype: int64\n"
     ]
    }
   ],
   "source": [
    "#null check\n",
    "\n",
    "print(\"APPL null: \", df_APPL.isnull().sum())\n",
    "print(\"BTC Null\", df_BTC.isnull().sum())\n",
    "print(\"EUR Null\", df_EURUSD.isnull().sum())"
   ],
   "metadata": {
    "collapsed": false,
    "ExecuteTime": {
     "end_time": "2025-05-23T01:00:43.795740Z",
     "start_time": "2025-05-23T01:00:43.782584Z"
    }
   },
   "id": "d7f7b518651e8616",
   "execution_count": 23
  },
  {
   "cell_type": "code",
   "outputs": [
    {
     "ename": "ModuleNotFoundError",
     "evalue": "No module named 'seaborn'",
     "output_type": "error",
     "traceback": [
      "\u001B[0;31m---------------------------------------------------------------------------\u001B[0m",
      "\u001B[0;31mModuleNotFoundError\u001B[0m                       Traceback (most recent call last)",
      "Cell \u001B[0;32mIn[26], line 1\u001B[0m\n\u001B[0;32m----> 1\u001B[0m \u001B[38;5;28;01mimport\u001B[39;00m \u001B[38;5;21;01mseaborn\u001B[39;00m \u001B[38;5;28;01mas\u001B[39;00m \u001B[38;5;21;01msns\u001B[39;00m\n",
      "\u001B[0;31mModuleNotFoundError\u001B[0m: No module named 'seaborn'"
     ]
    }
   ],
   "source": [
    "import seaborn as sns"
   ],
   "metadata": {
    "collapsed": false,
    "ExecuteTime": {
     "end_time": "2025-05-23T01:02:43.067041Z",
     "start_time": "2025-05-23T01:02:43.047070Z"
    }
   },
   "id": "82a15a4c9d65037b",
   "execution_count": 26
  },
  {
   "cell_type": "markdown",
   "source": [
    "price trend APPL"
   ],
   "metadata": {
    "collapsed": false
   },
   "id": "e10a5b4db1ea1bb3"
  },
  {
   "cell_type": "code",
   "outputs": [
    {
     "ename": "NameError",
     "evalue": "name 'sns' is not defined",
     "output_type": "error",
     "traceback": [
      "\u001B[0;31m---------------------------------------------------------------------------\u001B[0m",
      "\u001B[0;31mNameError\u001B[0m                                 Traceback (most recent call last)",
      "Cell \u001B[0;32mIn[25], line 2\u001B[0m\n\u001B[1;32m      1\u001B[0m plt\u001B[38;5;241m.\u001B[39mfigure(figsize\u001B[38;5;241m=\u001B[39m(\u001B[38;5;241m8\u001B[39m, \u001B[38;5;241m4\u001B[39m))\n\u001B[0;32m----> 2\u001B[0m \u001B[43msns\u001B[49m\u001B[38;5;241m.\u001B[39mhistplot(df[\u001B[38;5;124m\"\u001B[39m\u001B[38;5;124mReturns\u001B[39m\u001B[38;5;124m\"\u001B[39m], bins\u001B[38;5;241m=\u001B[39m\u001B[38;5;241m50\u001B[39m, kde\u001B[38;5;241m=\u001B[39m\u001B[38;5;28;01mTrue\u001B[39;00m)\n\u001B[1;32m      3\u001B[0m plt\u001B[38;5;241m.\u001B[39mtitle(\u001B[38;5;124m\"\u001B[39m\u001B[38;5;124mDistribution of Daily Returns\u001B[39m\u001B[38;5;124m\"\u001B[39m)\n\u001B[1;32m      4\u001B[0m plt\u001B[38;5;241m.\u001B[39mxlabel(\u001B[38;5;124m\"\u001B[39m\u001B[38;5;124mReturns\u001B[39m\u001B[38;5;124m\"\u001B[39m)\n",
      "\u001B[0;31mNameError\u001B[0m: name 'sns' is not defined"
     ]
    },
    {
     "data": {
      "text/plain": "<Figure size 800x400 with 0 Axes>"
     },
     "metadata": {},
     "output_type": "display_data"
    }
   ],
   "source": [
    "plt.figure(figsize=(8, 4))\n",
    "sns.histplot(df_APPL[\"Returns\"], bins=50, kde=True)\n",
    "plt.title(\"Distribution of Daily Returns\")\n",
    "plt.xlabel(\"Returns\")\n",
    "plt.show()\n"
   ],
   "metadata": {
    "collapsed": false,
    "ExecuteTime": {
     "end_time": "2025-05-23T01:02:03.892190Z",
     "start_time": "2025-05-23T01:02:03.822259Z"
    }
   },
   "id": "c4036f3dd64928cd",
   "execution_count": 25
  },
  {
   "cell_type": "code",
   "outputs": [],
   "source": [],
   "metadata": {
    "collapsed": false
   },
   "id": "ef81b6d0aac3eb6b"
  },
  {
   "cell_type": "markdown",
   "source": [
    "Return Distribution APPL"
   ],
   "metadata": {
    "collapsed": false
   },
   "id": "75bb399e48c1c15f"
  },
  {
   "cell_type": "code",
   "outputs": [
    {
     "ename": "NameError",
     "evalue": "name 'sns' is not defined",
     "output_type": "error",
     "traceback": [
      "\u001B[0;31m---------------------------------------------------------------------------\u001B[0m",
      "\u001B[0;31mNameError\u001B[0m                                 Traceback (most recent call last)",
      "Cell \u001B[0;32mIn[27], line 2\u001B[0m\n\u001B[1;32m      1\u001B[0m plt\u001B[38;5;241m.\u001B[39mfigure(figsize\u001B[38;5;241m=\u001B[39m(\u001B[38;5;241m8\u001B[39m, \u001B[38;5;241m4\u001B[39m))\n\u001B[0;32m----> 2\u001B[0m \u001B[43msns\u001B[49m\u001B[38;5;241m.\u001B[39mhistplot(df_APPL[\u001B[38;5;124m\"\u001B[39m\u001B[38;5;124mReturns\u001B[39m\u001B[38;5;124m\"\u001B[39m], bins\u001B[38;5;241m=\u001B[39m\u001B[38;5;241m50\u001B[39m, kde\u001B[38;5;241m=\u001B[39m\u001B[38;5;28;01mTrue\u001B[39;00m)\n\u001B[1;32m      3\u001B[0m plt\u001B[38;5;241m.\u001B[39mtitle(\u001B[38;5;124m\"\u001B[39m\u001B[38;5;124mDistribution of Daily Returns\u001B[39m\u001B[38;5;124m\"\u001B[39m)\n\u001B[1;32m      4\u001B[0m plt\u001B[38;5;241m.\u001B[39mxlabel(\u001B[38;5;124m\"\u001B[39m\u001B[38;5;124mReturns\u001B[39m\u001B[38;5;124m\"\u001B[39m)\n",
      "\u001B[0;31mNameError\u001B[0m: name 'sns' is not defined"
     ]
    },
    {
     "data": {
      "text/plain": "<Figure size 800x400 with 0 Axes>"
     },
     "metadata": {},
     "output_type": "display_data"
    }
   ],
   "source": [
    "plt.figure(figsize=(8, 4))\n",
    "sns.histplot(df_APPL[\"Returns\"], bins=50, kde=True)\n",
    "plt.title(\"Distribution of Daily Returns\")\n",
    "plt.xlabel(\"Returns\")\n",
    "plt.show()\n"
   ],
   "metadata": {
    "collapsed": false,
    "ExecuteTime": {
     "end_time": "2025-05-23T01:03:51.703487Z",
     "start_time": "2025-05-23T01:03:51.689871Z"
    }
   },
   "id": "861e748c21eae93d",
   "execution_count": 27
  },
  {
   "cell_type": "markdown",
   "source": [
    "RSI Over Time APPL"
   ],
   "metadata": {
    "collapsed": false
   },
   "id": "312ed42cca498ede"
  },
  {
   "cell_type": "code",
   "outputs": [
    {
     "data": {
      "text/plain": "<Figure size 1200x400 with 1 Axes>",
      "image/png": "[encoded data removed]"
     },
     "metadata": {},
     "output_type": "display_data"
    }
   ],
   "source": [
    "plt.figure(figsize=(12, 4))\n",
    "plt.plot(df_APPL[\"Date\"], df_APPL[\"RSI\"], label=\"RSI\", color=\"purple\")\n",
    "plt.axhline(70, color=\"red\", linestyle=\"--\")\n",
    "plt.axhline(30, color=\"green\", linestyle=\"--\")\n",
    "plt.title(\"Relative Strength Index (RSI)\")\n",
    "plt.legend()\n",
    "plt.show()\n"
   ],
   "metadata": {
    "collapsed": false,
    "ExecuteTime": {
     "end_time": "2025-05-23T01:04:48.874739Z",
     "start_time": "2025-05-23T01:04:48.309221Z"
    }
   },
   "id": "99b5d40e6105c987",
   "execution_count": 29
  },
  {
   "cell_type": "markdown",
   "source": [
    "Correlation Heatmap APPL"
   ],
   "metadata": {
    "collapsed": false
   },
   "id": "6e4ab9fe7ec03b16"
  },
  {
   "cell_type": "code",
   "outputs": [
    {
     "ename": "NameError",
     "evalue": "name 'sns' is not defined",
     "output_type": "error",
     "traceback": [
      "\u001B[0;31m---------------------------------------------------------------------------\u001B[0m",
      "\u001B[0;31mNameError\u001B[0m                                 Traceback (most recent call last)",
      "Cell \u001B[0;32mIn[30], line 3\u001B[0m\n\u001B[1;32m      1\u001B[0m plt\u001B[38;5;241m.\u001B[39mfigure(figsize\u001B[38;5;241m=\u001B[39m(\u001B[38;5;241m8\u001B[39m, \u001B[38;5;241m6\u001B[39m))\n\u001B[1;32m      2\u001B[0m corr \u001B[38;5;241m=\u001B[39m df_APPL[[\u001B[38;5;124m\"\u001B[39m\u001B[38;5;124mClose\u001B[39m\u001B[38;5;124m\"\u001B[39m, \u001B[38;5;124m\"\u001B[39m\u001B[38;5;124mHigh\u001B[39m\u001B[38;5;124m\"\u001B[39m, \u001B[38;5;124m\"\u001B[39m\u001B[38;5;124mLow\u001B[39m\u001B[38;5;124m\"\u001B[39m, \u001B[38;5;124m\"\u001B[39m\u001B[38;5;124mOpen\u001B[39m\u001B[38;5;124m\"\u001B[39m, \u001B[38;5;124m\"\u001B[39m\u001B[38;5;124mVolume\u001B[39m\u001B[38;5;124m\"\u001B[39m, \u001B[38;5;124m\"\u001B[39m\u001B[38;5;124mSMA_20\u001B[39m\u001B[38;5;124m\"\u001B[39m, \u001B[38;5;124m\"\u001B[39m\u001B[38;5;124mRSI\u001B[39m\u001B[38;5;124m\"\u001B[39m, \u001B[38;5;124m\"\u001B[39m\u001B[38;5;124mReturns\u001B[39m\u001B[38;5;124m\"\u001B[39m]]\u001B[38;5;241m.\u001B[39mcorr()\n\u001B[0;32m----> 3\u001B[0m \u001B[43msns\u001B[49m\u001B[38;5;241m.\u001B[39mheatmap(corr, annot\u001B[38;5;241m=\u001B[39m\u001B[38;5;28;01mTrue\u001B[39;00m, cmap\u001B[38;5;241m=\u001B[39m\u001B[38;5;124m\"\u001B[39m\u001B[38;5;124mcoolwarm\u001B[39m\u001B[38;5;124m\"\u001B[39m, fmt\u001B[38;5;241m=\u001B[39m\u001B[38;5;124m\"\u001B[39m\u001B[38;5;124m.2f\u001B[39m\u001B[38;5;124m\"\u001B[39m)\n\u001B[1;32m      4\u001B[0m plt\u001B[38;5;241m.\u001B[39mtitle(\u001B[38;5;124m\"\u001B[39m\u001B[38;5;124mCorrelation Heatmap\u001B[39m\u001B[38;5;124m\"\u001B[39m)\n\u001B[1;32m      5\u001B[0m plt\u001B[38;5;241m.\u001B[39mshow()\n",
      "\u001B[0;31mNameError\u001B[0m: name 'sns' is not defined"
     ]
    },
    {
     "data": {
      "text/plain": "<Figure size 800x600 with 0 Axes>"
     },
     "metadata": {},
     "output_type": "display_data"
    }
   ],
   "source": [
    "plt.figure(figsize=(8, 6))\n",
    "corr = df_APPL[[\"Close\", \"High\", \"Low\", \"Open\", \"Volume\", \"SMA_20\", \"RSI\", \"Returns\"]].corr()\n",
    "sns.heatmap(corr, annot=True, cmap=\"coolwarm\", fmt=\".2f\")\n",
    "plt.title(\"Correlation Heatmap\")\n",
    "plt.show()\n"
   ],
   "metadata": {
    "collapsed": false,
    "ExecuteTime": {
     "end_time": "2025-05-23T01:05:45.549636Z",
     "start_time": "2025-05-23T01:05:45.496850Z"
    }
   },
   "id": "957de4692f628a77",
   "execution_count": 30
  },
  {
   "cell_type": "markdown",
   "source": [
    "- The price trend shows an overall movement and can help detect seasonal or trend-based patterns.\n",
    "- The returns are mostly centered around zero, with some outliers.\n",
    "- RSI values indicate overbought (>70) and oversold (<30) conditions.\n",
    "- The correlation matrix reveals which indicators are most associated with the price or returns.\n"
   ],
   "metadata": {
    "collapsed": false
   },
   "id": "16da7f9ae5be57ca"
  },
  {
   "cell_type": "code",
   "outputs": [],
   "source": [],
   "metadata": {
    "collapsed": false
   },
   "id": "110c294d60551072"
  }
 ],
 "metadata": {
  "kernelspec": {
   "display_name": "Python 3",
   "language": "python",
   "name": "python3"
  },
  "language_info": {
   "codemirror_mode": {
    "name": "ipython",
    "version": 2
   },
   "file_extension": ".py",
   "mimetype": "text/x-python",
   "name": "python",
   "nbconvert_exporter": "python",
   "pygments_lexer": "ipython2",
   "version": "2.7.6"
  }
 },
 "nbformat": 4,
 "nbformat_minor": 5
}
